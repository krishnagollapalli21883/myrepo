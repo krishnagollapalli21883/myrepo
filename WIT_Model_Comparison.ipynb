{
  "nbformat": 4,
  "nbformat_minor": 0,
  "metadata": {
    "colab": {
      "name": "WIT Model Comparison",
      "provenance": [],
      "collapsed_sections": [],
      "include_colab_link": true
    },
    "kernelspec": {
      "name": "python3",
      "display_name": "Python 3"
    }
  },
  "cells": [
    {
      "cell_type": "markdown",
      "metadata": {
        "id": "view-in-github",
        "colab_type": "text"
      },
      "source": [
        "<a href=\"https://colab.research.google.com/github/krishnagollapalli21883/myrepo/blob/main/WIT_Model_Comparison.ipynb\" target=\"_parent\"><img src=\"https://colab.research.google.com/assets/colab-badge.svg\" alt=\"Open In Colab\"/></a>"
      ]
    },
    {
      "cell_type": "markdown",
      "metadata": {
        "id": "UiNxsd4_q9wq"
      },
      "source": [
        "### What-If Tool - model comparison\n",
        "\n",
        "Copyright 2019 Google LLC.\n",
        "SPDX-License-Identifier: Apache-2.0\n",
        "\n",
        "This notebook shows use of the [What-If Tool](https://pair-code.github.io/what-if-tool) to compare perfomance of two models on the same dataset.\n",
        "\n",
        "This notebook trains a linear classifier and a DNN on the [UCI census problem](https://archive.ics.uci.edu/ml/datasets/census+income) (predicting whether a person earns more than $50K from their census information).\n",
        "\n",
        "It then visualizes the results of the trained classifiers on test data using the What-If Tool.\n"
      ]
    },
    {
      "cell_type": "code",
      "metadata": {
        "id": "qqB2tjOMETmr",
        "colab": {
          "base_uri": "https://localhost:8080/"
        },
        "outputId": "ab037095-bc6e-444f-92c9-804b3931bbd2"
      },
      "source": [
        "#@title Install the What-If Tool widget if running in colab {display-mode: \"form\"}\n",
        "\n",
        "try:\n",
        "  import google.colab\n",
        "  !pip install --upgrade witwidget\n",
        "except:\n",
        "  pass"
      ],
      "execution_count": 1,
      "outputs": [
        {
          "output_type": "stream",
          "name": "stdout",
          "text": [
            "Collecting witwidget\n",
            "  Downloading witwidget-1.8.1-py3-none-any.whl (1.5 MB)\n",
            "\u001b[?25l\r\u001b[K     |▏                               | 10 kB 23.6 MB/s eta 0:00:01\r\u001b[K     |▍                               | 20 kB 22.5 MB/s eta 0:00:01\r\u001b[K     |▋                               | 30 kB 16.7 MB/s eta 0:00:01\r\u001b[K     |▉                               | 40 kB 11.2 MB/s eta 0:00:01\r\u001b[K     |█                               | 51 kB 8.6 MB/s eta 0:00:01\r\u001b[K     |█▎                              | 61 kB 10.1 MB/s eta 0:00:01\r\u001b[K     |█▌                              | 71 kB 10.4 MB/s eta 0:00:01\r\u001b[K     |█▊                              | 81 kB 10.4 MB/s eta 0:00:01\r\u001b[K     |██                              | 92 kB 11.3 MB/s eta 0:00:01\r\u001b[K     |██▏                             | 102 kB 12.2 MB/s eta 0:00:01\r\u001b[K     |██▎                             | 112 kB 12.2 MB/s eta 0:00:01\r\u001b[K     |██▌                             | 122 kB 12.2 MB/s eta 0:00:01\r\u001b[K     |██▊                             | 133 kB 12.2 MB/s eta 0:00:01\r\u001b[K     |███                             | 143 kB 12.2 MB/s eta 0:00:01\r\u001b[K     |███▏                            | 153 kB 12.2 MB/s eta 0:00:01\r\u001b[K     |███▍                            | 163 kB 12.2 MB/s eta 0:00:01\r\u001b[K     |███▋                            | 174 kB 12.2 MB/s eta 0:00:01\r\u001b[K     |███▉                            | 184 kB 12.2 MB/s eta 0:00:01\r\u001b[K     |████                            | 194 kB 12.2 MB/s eta 0:00:01\r\u001b[K     |████▎                           | 204 kB 12.2 MB/s eta 0:00:01\r\u001b[K     |████▌                           | 215 kB 12.2 MB/s eta 0:00:01\r\u001b[K     |████▋                           | 225 kB 12.2 MB/s eta 0:00:01\r\u001b[K     |████▉                           | 235 kB 12.2 MB/s eta 0:00:01\r\u001b[K     |█████                           | 245 kB 12.2 MB/s eta 0:00:01\r\u001b[K     |█████▎                          | 256 kB 12.2 MB/s eta 0:00:01\r\u001b[K     |█████▌                          | 266 kB 12.2 MB/s eta 0:00:01\r\u001b[K     |█████▊                          | 276 kB 12.2 MB/s eta 0:00:01\r\u001b[K     |██████                          | 286 kB 12.2 MB/s eta 0:00:01\r\u001b[K     |██████▏                         | 296 kB 12.2 MB/s eta 0:00:01\r\u001b[K     |██████▍                         | 307 kB 12.2 MB/s eta 0:00:01\r\u001b[K     |██████▋                         | 317 kB 12.2 MB/s eta 0:00:01\r\u001b[K     |██████▊                         | 327 kB 12.2 MB/s eta 0:00:01\r\u001b[K     |███████                         | 337 kB 12.2 MB/s eta 0:00:01\r\u001b[K     |███████▏                        | 348 kB 12.2 MB/s eta 0:00:01\r\u001b[K     |███████▍                        | 358 kB 12.2 MB/s eta 0:00:01\r\u001b[K     |███████▋                        | 368 kB 12.2 MB/s eta 0:00:01\r\u001b[K     |███████▉                        | 378 kB 12.2 MB/s eta 0:00:01\r\u001b[K     |████████                        | 389 kB 12.2 MB/s eta 0:00:01\r\u001b[K     |████████▎                       | 399 kB 12.2 MB/s eta 0:00:01\r\u001b[K     |████████▌                       | 409 kB 12.2 MB/s eta 0:00:01\r\u001b[K     |████████▊                       | 419 kB 12.2 MB/s eta 0:00:01\r\u001b[K     |█████████                       | 430 kB 12.2 MB/s eta 0:00:01\r\u001b[K     |█████████                       | 440 kB 12.2 MB/s eta 0:00:01\r\u001b[K     |█████████▎                      | 450 kB 12.2 MB/s eta 0:00:01\r\u001b[K     |█████████▌                      | 460 kB 12.2 MB/s eta 0:00:01\r\u001b[K     |█████████▊                      | 471 kB 12.2 MB/s eta 0:00:01\r\u001b[K     |██████████                      | 481 kB 12.2 MB/s eta 0:00:01\r\u001b[K     |██████████▏                     | 491 kB 12.2 MB/s eta 0:00:01\r\u001b[K     |██████████▍                     | 501 kB 12.2 MB/s eta 0:00:01\r\u001b[K     |██████████▋                     | 512 kB 12.2 MB/s eta 0:00:01\r\u001b[K     |██████████▉                     | 522 kB 12.2 MB/s eta 0:00:01\r\u001b[K     |███████████                     | 532 kB 12.2 MB/s eta 0:00:01\r\u001b[K     |███████████▏                    | 542 kB 12.2 MB/s eta 0:00:01\r\u001b[K     |███████████▍                    | 552 kB 12.2 MB/s eta 0:00:01\r\u001b[K     |███████████▋                    | 563 kB 12.2 MB/s eta 0:00:01\r\u001b[K     |███████████▉                    | 573 kB 12.2 MB/s eta 0:00:01\r\u001b[K     |████████████                    | 583 kB 12.2 MB/s eta 0:00:01\r\u001b[K     |████████████▎                   | 593 kB 12.2 MB/s eta 0:00:01\r\u001b[K     |████████████▌                   | 604 kB 12.2 MB/s eta 0:00:01\r\u001b[K     |████████████▊                   | 614 kB 12.2 MB/s eta 0:00:01\r\u001b[K     |█████████████                   | 624 kB 12.2 MB/s eta 0:00:01\r\u001b[K     |█████████████▏                  | 634 kB 12.2 MB/s eta 0:00:01\r\u001b[K     |█████████████▍                  | 645 kB 12.2 MB/s eta 0:00:01\r\u001b[K     |█████████████▌                  | 655 kB 12.2 MB/s eta 0:00:01\r\u001b[K     |█████████████▊                  | 665 kB 12.2 MB/s eta 0:00:01\r\u001b[K     |██████████████                  | 675 kB 12.2 MB/s eta 0:00:01\r\u001b[K     |██████████████▏                 | 686 kB 12.2 MB/s eta 0:00:01\r\u001b[K     |██████████████▍                 | 696 kB 12.2 MB/s eta 0:00:01\r\u001b[K     |██████████████▋                 | 706 kB 12.2 MB/s eta 0:00:01\r\u001b[K     |██████████████▉                 | 716 kB 12.2 MB/s eta 0:00:01\r\u001b[K     |███████████████                 | 727 kB 12.2 MB/s eta 0:00:01\r\u001b[K     |███████████████▎                | 737 kB 12.2 MB/s eta 0:00:01\r\u001b[K     |███████████████▌                | 747 kB 12.2 MB/s eta 0:00:01\r\u001b[K     |███████████████▊                | 757 kB 12.2 MB/s eta 0:00:01\r\u001b[K     |███████████████▉                | 768 kB 12.2 MB/s eta 0:00:01\r\u001b[K     |████████████████                | 778 kB 12.2 MB/s eta 0:00:01\r\u001b[K     |████████████████▎               | 788 kB 12.2 MB/s eta 0:00:01\r\u001b[K     |████████████████▌               | 798 kB 12.2 MB/s eta 0:00:01\r\u001b[K     |████████████████▊               | 808 kB 12.2 MB/s eta 0:00:01\r\u001b[K     |█████████████████               | 819 kB 12.2 MB/s eta 0:00:01\r\u001b[K     |█████████████████▏              | 829 kB 12.2 MB/s eta 0:00:01\r\u001b[K     |█████████████████▍              | 839 kB 12.2 MB/s eta 0:00:01\r\u001b[K     |█████████████████▋              | 849 kB 12.2 MB/s eta 0:00:01\r\u001b[K     |█████████████████▉              | 860 kB 12.2 MB/s eta 0:00:01\r\u001b[K     |██████████████████              | 870 kB 12.2 MB/s eta 0:00:01\r\u001b[K     |██████████████████▏             | 880 kB 12.2 MB/s eta 0:00:01\r\u001b[K     |██████████████████▍             | 890 kB 12.2 MB/s eta 0:00:01\r\u001b[K     |██████████████████▋             | 901 kB 12.2 MB/s eta 0:00:01\r\u001b[K     |██████████████████▉             | 911 kB 12.2 MB/s eta 0:00:01\r\u001b[K     |███████████████████             | 921 kB 12.2 MB/s eta 0:00:01\r\u001b[K     |███████████████████▎            | 931 kB 12.2 MB/s eta 0:00:01\r\u001b[K     |███████████████████▌            | 942 kB 12.2 MB/s eta 0:00:01\r\u001b[K     |███████████████████▊            | 952 kB 12.2 MB/s eta 0:00:01\r\u001b[K     |████████████████████            | 962 kB 12.2 MB/s eta 0:00:01\r\u001b[K     |████████████████████▏           | 972 kB 12.2 MB/s eta 0:00:01\r\u001b[K     |████████████████████▎           | 983 kB 12.2 MB/s eta 0:00:01\r\u001b[K     |████████████████████▌           | 993 kB 12.2 MB/s eta 0:00:01\r\u001b[K     |████████████████████▊           | 1.0 MB 12.2 MB/s eta 0:00:01\r\u001b[K     |█████████████████████           | 1.0 MB 12.2 MB/s eta 0:00:01\r\u001b[K     |█████████████████████▏          | 1.0 MB 12.2 MB/s eta 0:00:01\r\u001b[K     |█████████████████████▍          | 1.0 MB 12.2 MB/s eta 0:00:01\r\u001b[K     |█████████████████████▋          | 1.0 MB 12.2 MB/s eta 0:00:01\r\u001b[K     |█████████████████████▉          | 1.1 MB 12.2 MB/s eta 0:00:01\r\u001b[K     |██████████████████████          | 1.1 MB 12.2 MB/s eta 0:00:01\r\u001b[K     |██████████████████████▎         | 1.1 MB 12.2 MB/s eta 0:00:01\r\u001b[K     |██████████████████████▍         | 1.1 MB 12.2 MB/s eta 0:00:01\r\u001b[K     |██████████████████████▋         | 1.1 MB 12.2 MB/s eta 0:00:01\r\u001b[K     |██████████████████████▉         | 1.1 MB 12.2 MB/s eta 0:00:01\r\u001b[K     |███████████████████████         | 1.1 MB 12.2 MB/s eta 0:00:01\r\u001b[K     |███████████████████████▎        | 1.1 MB 12.2 MB/s eta 0:00:01\r\u001b[K     |███████████████████████▌        | 1.1 MB 12.2 MB/s eta 0:00:01\r\u001b[K     |███████████████████████▊        | 1.1 MB 12.2 MB/s eta 0:00:01\r\u001b[K     |████████████████████████        | 1.2 MB 12.2 MB/s eta 0:00:01\r\u001b[K     |████████████████████████▏       | 1.2 MB 12.2 MB/s eta 0:00:01\r\u001b[K     |████████████████████████▍       | 1.2 MB 12.2 MB/s eta 0:00:01\r\u001b[K     |████████████████████████▋       | 1.2 MB 12.2 MB/s eta 0:00:01\r\u001b[K     |████████████████████████▊       | 1.2 MB 12.2 MB/s eta 0:00:01\r\u001b[K     |█████████████████████████       | 1.2 MB 12.2 MB/s eta 0:00:01\r\u001b[K     |█████████████████████████▏      | 1.2 MB 12.2 MB/s eta 0:00:01\r\u001b[K     |█████████████████████████▍      | 1.2 MB 12.2 MB/s eta 0:00:01\r\u001b[K     |█████████████████████████▋      | 1.2 MB 12.2 MB/s eta 0:00:01\r\u001b[K     |█████████████████████████▉      | 1.2 MB 12.2 MB/s eta 0:00:01\r\u001b[K     |██████████████████████████      | 1.3 MB 12.2 MB/s eta 0:00:01\r\u001b[K     |██████████████████████████▎     | 1.3 MB 12.2 MB/s eta 0:00:01\r\u001b[K     |██████████████████████████▌     | 1.3 MB 12.2 MB/s eta 0:00:01\r\u001b[K     |██████████████████████████▊     | 1.3 MB 12.2 MB/s eta 0:00:01\r\u001b[K     |███████████████████████████     | 1.3 MB 12.2 MB/s eta 0:00:01\r\u001b[K     |███████████████████████████     | 1.3 MB 12.2 MB/s eta 0:00:01\r\u001b[K     |███████████████████████████▎    | 1.3 MB 12.2 MB/s eta 0:00:01\r\u001b[K     |███████████████████████████▌    | 1.3 MB 12.2 MB/s eta 0:00:01\r\u001b[K     |███████████████████████████▊    | 1.3 MB 12.2 MB/s eta 0:00:01\r\u001b[K     |████████████████████████████    | 1.4 MB 12.2 MB/s eta 0:00:01\r\u001b[K     |████████████████████████████▏   | 1.4 MB 12.2 MB/s eta 0:00:01\r\u001b[K     |████████████████████████████▍   | 1.4 MB 12.2 MB/s eta 0:00:01\r\u001b[K     |████████████████████████████▋   | 1.4 MB 12.2 MB/s eta 0:00:01\r\u001b[K     |████████████████████████████▉   | 1.4 MB 12.2 MB/s eta 0:00:01\r\u001b[K     |█████████████████████████████   | 1.4 MB 12.2 MB/s eta 0:00:01\r\u001b[K     |█████████████████████████████▏  | 1.4 MB 12.2 MB/s eta 0:00:01\r\u001b[K     |█████████████████████████████▍  | 1.4 MB 12.2 MB/s eta 0:00:01\r\u001b[K     |█████████████████████████████▋  | 1.4 MB 12.2 MB/s eta 0:00:01\r\u001b[K     |█████████████████████████████▉  | 1.4 MB 12.2 MB/s eta 0:00:01\r\u001b[K     |██████████████████████████████  | 1.5 MB 12.2 MB/s eta 0:00:01\r\u001b[K     |██████████████████████████████▎ | 1.5 MB 12.2 MB/s eta 0:00:01\r\u001b[K     |██████████████████████████████▌ | 1.5 MB 12.2 MB/s eta 0:00:01\r\u001b[K     |██████████████████████████████▊ | 1.5 MB 12.2 MB/s eta 0:00:01\r\u001b[K     |███████████████████████████████ | 1.5 MB 12.2 MB/s eta 0:00:01\r\u001b[K     |███████████████████████████████▏| 1.5 MB 12.2 MB/s eta 0:00:01\r\u001b[K     |███████████████████████████████▍| 1.5 MB 12.2 MB/s eta 0:00:01\r\u001b[K     |███████████████████████████████▌| 1.5 MB 12.2 MB/s eta 0:00:01\r\u001b[K     |███████████████████████████████▊| 1.5 MB 12.2 MB/s eta 0:00:01\r\u001b[K     |████████████████████████████████| 1.5 MB 12.2 MB/s eta 0:00:01\r\u001b[K     |████████████████████████████████| 1.5 MB 12.2 MB/s \n",
            "\u001b[?25hRequirement already satisfied: six>=1.12.0 in /usr/local/lib/python3.7/dist-packages (from witwidget) (1.15.0)\n",
            "Requirement already satisfied: ipywidgets>=7.0.0 in /usr/local/lib/python3.7/dist-packages (from witwidget) (7.7.0)\n",
            "Requirement already satisfied: tensorflow>=1.12.1 in /usr/local/lib/python3.7/dist-packages (from witwidget) (2.8.0)\n",
            "Requirement already satisfied: oauth2client>=4.1.3 in /usr/local/lib/python3.7/dist-packages (from witwidget) (4.1.3)\n",
            "Requirement already satisfied: google-api-python-client>=1.7.8 in /usr/local/lib/python3.7/dist-packages (from witwidget) (1.12.11)\n",
            "Requirement already satisfied: absl-py>=0.4 in /usr/local/lib/python3.7/dist-packages (from witwidget) (1.0.0)\n",
            "Requirement already satisfied: uritemplate<4dev,>=3.0.0 in /usr/local/lib/python3.7/dist-packages (from google-api-python-client>=1.7.8->witwidget) (3.0.1)\n",
            "Requirement already satisfied: httplib2<1dev,>=0.15.0 in /usr/local/lib/python3.7/dist-packages (from google-api-python-client>=1.7.8->witwidget) (0.17.4)\n",
            "Requirement already satisfied: google-api-core<3dev,>=1.21.0 in /usr/local/lib/python3.7/dist-packages (from google-api-python-client>=1.7.8->witwidget) (1.31.5)\n",
            "Requirement already satisfied: google-auth-httplib2>=0.0.3 in /usr/local/lib/python3.7/dist-packages (from google-api-python-client>=1.7.8->witwidget) (0.0.4)\n",
            "Requirement already satisfied: google-auth<3dev,>=1.16.0 in /usr/local/lib/python3.7/dist-packages (from google-api-python-client>=1.7.8->witwidget) (1.35.0)\n",
            "Requirement already satisfied: protobuf>=3.12.0 in /usr/local/lib/python3.7/dist-packages (from google-api-core<3dev,>=1.21.0->google-api-python-client>=1.7.8->witwidget) (3.17.3)\n",
            "Requirement already satisfied: packaging>=14.3 in /usr/local/lib/python3.7/dist-packages (from google-api-core<3dev,>=1.21.0->google-api-python-client>=1.7.8->witwidget) (21.3)\n",
            "Requirement already satisfied: googleapis-common-protos<2.0dev,>=1.6.0 in /usr/local/lib/python3.7/dist-packages (from google-api-core<3dev,>=1.21.0->google-api-python-client>=1.7.8->witwidget) (1.56.0)\n",
            "Requirement already satisfied: setuptools>=40.3.0 in /usr/local/lib/python3.7/dist-packages (from google-api-core<3dev,>=1.21.0->google-api-python-client>=1.7.8->witwidget) (57.4.0)\n",
            "Requirement already satisfied: pytz in /usr/local/lib/python3.7/dist-packages (from google-api-core<3dev,>=1.21.0->google-api-python-client>=1.7.8->witwidget) (2022.1)\n",
            "Requirement already satisfied: requests<3.0.0dev,>=2.18.0 in /usr/local/lib/python3.7/dist-packages (from google-api-core<3dev,>=1.21.0->google-api-python-client>=1.7.8->witwidget) (2.23.0)\n",
            "Requirement already satisfied: rsa<5,>=3.1.4 in /usr/local/lib/python3.7/dist-packages (from google-auth<3dev,>=1.16.0->google-api-python-client>=1.7.8->witwidget) (4.8)\n",
            "Requirement already satisfied: cachetools<5.0,>=2.0.0 in /usr/local/lib/python3.7/dist-packages (from google-auth<3dev,>=1.16.0->google-api-python-client>=1.7.8->witwidget) (4.2.4)\n",
            "Requirement already satisfied: pyasn1-modules>=0.2.1 in /usr/local/lib/python3.7/dist-packages (from google-auth<3dev,>=1.16.0->google-api-python-client>=1.7.8->witwidget) (0.2.8)\n",
            "Requirement already satisfied: nbformat>=4.2.0 in /usr/local/lib/python3.7/dist-packages (from ipywidgets>=7.0.0->witwidget) (5.3.0)\n",
            "Requirement already satisfied: ipykernel>=4.5.1 in /usr/local/lib/python3.7/dist-packages (from ipywidgets>=7.0.0->witwidget) (4.10.1)\n",
            "Requirement already satisfied: ipython-genutils~=0.2.0 in /usr/local/lib/python3.7/dist-packages (from ipywidgets>=7.0.0->witwidget) (0.2.0)\n",
            "Requirement already satisfied: jupyterlab-widgets>=1.0.0 in /usr/local/lib/python3.7/dist-packages (from ipywidgets>=7.0.0->witwidget) (1.1.0)\n",
            "Requirement already satisfied: widgetsnbextension~=3.6.0 in /usr/local/lib/python3.7/dist-packages (from ipywidgets>=7.0.0->witwidget) (3.6.0)\n",
            "Requirement already satisfied: traitlets>=4.3.1 in /usr/local/lib/python3.7/dist-packages (from ipywidgets>=7.0.0->witwidget) (5.1.1)\n",
            "Requirement already satisfied: ipython>=4.0.0 in /usr/local/lib/python3.7/dist-packages (from ipywidgets>=7.0.0->witwidget) (5.5.0)\n",
            "Requirement already satisfied: tornado>=4.0 in /usr/local/lib/python3.7/dist-packages (from ipykernel>=4.5.1->ipywidgets>=7.0.0->witwidget) (5.1.1)\n",
            "Requirement already satisfied: jupyter-client in /usr/local/lib/python3.7/dist-packages (from ipykernel>=4.5.1->ipywidgets>=7.0.0->witwidget) (5.3.5)\n",
            "Requirement already satisfied: prompt-toolkit<2.0.0,>=1.0.4 in /usr/local/lib/python3.7/dist-packages (from ipython>=4.0.0->ipywidgets>=7.0.0->witwidget) (1.0.18)\n",
            "Requirement already satisfied: simplegeneric>0.8 in /usr/local/lib/python3.7/dist-packages (from ipython>=4.0.0->ipywidgets>=7.0.0->witwidget) (0.8.1)\n",
            "Requirement already satisfied: pickleshare in /usr/local/lib/python3.7/dist-packages (from ipython>=4.0.0->ipywidgets>=7.0.0->witwidget) (0.7.5)\n",
            "Requirement already satisfied: decorator in /usr/local/lib/python3.7/dist-packages (from ipython>=4.0.0->ipywidgets>=7.0.0->witwidget) (4.4.2)\n",
            "Requirement already satisfied: pexpect in /usr/local/lib/python3.7/dist-packages (from ipython>=4.0.0->ipywidgets>=7.0.0->witwidget) (4.8.0)\n",
            "Requirement already satisfied: pygments in /usr/local/lib/python3.7/dist-packages (from ipython>=4.0.0->ipywidgets>=7.0.0->witwidget) (2.6.1)\n",
            "Requirement already satisfied: jsonschema>=2.6 in /usr/local/lib/python3.7/dist-packages (from nbformat>=4.2.0->ipywidgets>=7.0.0->witwidget) (4.3.3)\n",
            "Requirement already satisfied: jupyter-core in /usr/local/lib/python3.7/dist-packages (from nbformat>=4.2.0->ipywidgets>=7.0.0->witwidget) (4.10.0)\n",
            "Requirement already satisfied: fastjsonschema in /usr/local/lib/python3.7/dist-packages (from nbformat>=4.2.0->ipywidgets>=7.0.0->witwidget) (2.15.3)\n",
            "Requirement already satisfied: pyrsistent!=0.17.0,!=0.17.1,!=0.17.2,>=0.14.0 in /usr/local/lib/python3.7/dist-packages (from jsonschema>=2.6->nbformat>=4.2.0->ipywidgets>=7.0.0->witwidget) (0.18.1)\n",
            "Requirement already satisfied: importlib-metadata in /usr/local/lib/python3.7/dist-packages (from jsonschema>=2.6->nbformat>=4.2.0->ipywidgets>=7.0.0->witwidget) (4.11.3)\n",
            "Requirement already satisfied: importlib-resources>=1.4.0 in /usr/local/lib/python3.7/dist-packages (from jsonschema>=2.6->nbformat>=4.2.0->ipywidgets>=7.0.0->witwidget) (5.7.1)\n",
            "Requirement already satisfied: attrs>=17.4.0 in /usr/local/lib/python3.7/dist-packages (from jsonschema>=2.6->nbformat>=4.2.0->ipywidgets>=7.0.0->witwidget) (21.4.0)\n",
            "Requirement already satisfied: typing-extensions in /usr/local/lib/python3.7/dist-packages (from jsonschema>=2.6->nbformat>=4.2.0->ipywidgets>=7.0.0->witwidget) (4.2.0)\n",
            "Requirement already satisfied: zipp>=3.1.0 in /usr/local/lib/python3.7/dist-packages (from importlib-resources>=1.4.0->jsonschema>=2.6->nbformat>=4.2.0->ipywidgets>=7.0.0->witwidget) (3.8.0)\n",
            "Requirement already satisfied: pyasn1>=0.1.7 in /usr/local/lib/python3.7/dist-packages (from oauth2client>=4.1.3->witwidget) (0.4.8)\n",
            "Requirement already satisfied: pyparsing!=3.0.5,>=2.0.2 in /usr/local/lib/python3.7/dist-packages (from packaging>=14.3->google-api-core<3dev,>=1.21.0->google-api-python-client>=1.7.8->witwidget) (3.0.8)\n",
            "Requirement already satisfied: wcwidth in /usr/local/lib/python3.7/dist-packages (from prompt-toolkit<2.0.0,>=1.0.4->ipython>=4.0.0->ipywidgets>=7.0.0->witwidget) (0.2.5)\n",
            "Requirement already satisfied: urllib3!=1.25.0,!=1.25.1,<1.26,>=1.21.1 in /usr/local/lib/python3.7/dist-packages (from requests<3.0.0dev,>=2.18.0->google-api-core<3dev,>=1.21.0->google-api-python-client>=1.7.8->witwidget) (1.24.3)\n",
            "Requirement already satisfied: chardet<4,>=3.0.2 in /usr/local/lib/python3.7/dist-packages (from requests<3.0.0dev,>=2.18.0->google-api-core<3dev,>=1.21.0->google-api-python-client>=1.7.8->witwidget) (3.0.4)\n",
            "Requirement already satisfied: certifi>=2017.4.17 in /usr/local/lib/python3.7/dist-packages (from requests<3.0.0dev,>=2.18.0->google-api-core<3dev,>=1.21.0->google-api-python-client>=1.7.8->witwidget) (2021.10.8)\n",
            "Requirement already satisfied: idna<3,>=2.5 in /usr/local/lib/python3.7/dist-packages (from requests<3.0.0dev,>=2.18.0->google-api-core<3dev,>=1.21.0->google-api-python-client>=1.7.8->witwidget) (2.10)\n",
            "Requirement already satisfied: gast>=0.2.1 in /usr/local/lib/python3.7/dist-packages (from tensorflow>=1.12.1->witwidget) (0.5.3)\n",
            "Requirement already satisfied: keras-preprocessing>=1.1.1 in /usr/local/lib/python3.7/dist-packages (from tensorflow>=1.12.1->witwidget) (1.1.2)\n",
            "Requirement already satisfied: tensorboard<2.9,>=2.8 in /usr/local/lib/python3.7/dist-packages (from tensorflow>=1.12.1->witwidget) (2.8.0)\n",
            "Requirement already satisfied: h5py>=2.9.0 in /usr/local/lib/python3.7/dist-packages (from tensorflow>=1.12.1->witwidget) (3.1.0)\n",
            "Requirement already satisfied: tensorflow-io-gcs-filesystem>=0.23.1 in /usr/local/lib/python3.7/dist-packages (from tensorflow>=1.12.1->witwidget) (0.24.0)\n",
            "Requirement already satisfied: opt-einsum>=2.3.2 in /usr/local/lib/python3.7/dist-packages (from tensorflow>=1.12.1->witwidget) (3.3.0)\n",
            "Requirement already satisfied: grpcio<2.0,>=1.24.3 in /usr/local/lib/python3.7/dist-packages (from tensorflow>=1.12.1->witwidget) (1.44.0)\n",
            "Requirement already satisfied: google-pasta>=0.1.1 in /usr/local/lib/python3.7/dist-packages (from tensorflow>=1.12.1->witwidget) (0.2.0)\n",
            "Requirement already satisfied: flatbuffers>=1.12 in /usr/local/lib/python3.7/dist-packages (from tensorflow>=1.12.1->witwidget) (2.0)\n",
            "Requirement already satisfied: termcolor>=1.1.0 in /usr/local/lib/python3.7/dist-packages (from tensorflow>=1.12.1->witwidget) (1.1.0)\n",
            "Requirement already satisfied: numpy>=1.20 in /usr/local/lib/python3.7/dist-packages (from tensorflow>=1.12.1->witwidget) (1.21.6)\n",
            "Requirement already satisfied: libclang>=9.0.1 in /usr/local/lib/python3.7/dist-packages (from tensorflow>=1.12.1->witwidget) (13.0.0)\n",
            "Collecting tf-estimator-nightly==2.8.0.dev2021122109\n",
            "  Downloading tf_estimator_nightly-2.8.0.dev2021122109-py2.py3-none-any.whl (462 kB)\n",
            "\u001b[K     |████████████████████████████████| 462 kB 55.6 MB/s \n",
            "\u001b[?25hRequirement already satisfied: astunparse>=1.6.0 in /usr/local/lib/python3.7/dist-packages (from tensorflow>=1.12.1->witwidget) (1.6.3)\n",
            "Requirement already satisfied: wrapt>=1.11.0 in /usr/local/lib/python3.7/dist-packages (from tensorflow>=1.12.1->witwidget) (1.14.0)\n",
            "Requirement already satisfied: keras<2.9,>=2.8.0rc0 in /usr/local/lib/python3.7/dist-packages (from tensorflow>=1.12.1->witwidget) (2.8.0)\n",
            "Requirement already satisfied: wheel<1.0,>=0.23.0 in /usr/local/lib/python3.7/dist-packages (from astunparse>=1.6.0->tensorflow>=1.12.1->witwidget) (0.37.1)\n",
            "Requirement already satisfied: cached-property in /usr/local/lib/python3.7/dist-packages (from h5py>=2.9.0->tensorflow>=1.12.1->witwidget) (1.5.2)\n",
            "Requirement already satisfied: tensorboard-plugin-wit>=1.6.0 in /usr/local/lib/python3.7/dist-packages (from tensorboard<2.9,>=2.8->tensorflow>=1.12.1->witwidget) (1.8.1)\n",
            "Requirement already satisfied: markdown>=2.6.8 in /usr/local/lib/python3.7/dist-packages (from tensorboard<2.9,>=2.8->tensorflow>=1.12.1->witwidget) (3.3.6)\n",
            "Requirement already satisfied: tensorboard-data-server<0.7.0,>=0.6.0 in /usr/local/lib/python3.7/dist-packages (from tensorboard<2.9,>=2.8->tensorflow>=1.12.1->witwidget) (0.6.1)\n",
            "Requirement already satisfied: google-auth-oauthlib<0.5,>=0.4.1 in /usr/local/lib/python3.7/dist-packages (from tensorboard<2.9,>=2.8->tensorflow>=1.12.1->witwidget) (0.4.6)\n",
            "Requirement already satisfied: werkzeug>=0.11.15 in /usr/local/lib/python3.7/dist-packages (from tensorboard<2.9,>=2.8->tensorflow>=1.12.1->witwidget) (1.0.1)\n",
            "Requirement already satisfied: requests-oauthlib>=0.7.0 in /usr/local/lib/python3.7/dist-packages (from google-auth-oauthlib<0.5,>=0.4.1->tensorboard<2.9,>=2.8->tensorflow>=1.12.1->witwidget) (1.3.1)\n",
            "Requirement already satisfied: oauthlib>=3.0.0 in /usr/local/lib/python3.7/dist-packages (from requests-oauthlib>=0.7.0->google-auth-oauthlib<0.5,>=0.4.1->tensorboard<2.9,>=2.8->tensorflow>=1.12.1->witwidget) (3.2.0)\n",
            "Requirement already satisfied: notebook>=4.4.1 in /usr/local/lib/python3.7/dist-packages (from widgetsnbextension~=3.6.0->ipywidgets>=7.0.0->witwidget) (5.3.1)\n",
            "Requirement already satisfied: jinja2 in /usr/local/lib/python3.7/dist-packages (from notebook>=4.4.1->widgetsnbextension~=3.6.0->ipywidgets>=7.0.0->witwidget) (2.11.3)\n",
            "Requirement already satisfied: nbconvert in /usr/local/lib/python3.7/dist-packages (from notebook>=4.4.1->widgetsnbextension~=3.6.0->ipywidgets>=7.0.0->witwidget) (5.6.1)\n",
            "Requirement already satisfied: terminado>=0.8.1 in /usr/local/lib/python3.7/dist-packages (from notebook>=4.4.1->widgetsnbextension~=3.6.0->ipywidgets>=7.0.0->witwidget) (0.13.3)\n",
            "Requirement already satisfied: Send2Trash in /usr/local/lib/python3.7/dist-packages (from notebook>=4.4.1->widgetsnbextension~=3.6.0->ipywidgets>=7.0.0->witwidget) (1.8.0)\n",
            "Requirement already satisfied: python-dateutil>=2.1 in /usr/local/lib/python3.7/dist-packages (from jupyter-client->ipykernel>=4.5.1->ipywidgets>=7.0.0->witwidget) (2.8.2)\n",
            "Requirement already satisfied: pyzmq>=13 in /usr/local/lib/python3.7/dist-packages (from jupyter-client->ipykernel>=4.5.1->ipywidgets>=7.0.0->witwidget) (22.3.0)\n",
            "Requirement already satisfied: ptyprocess in /usr/local/lib/python3.7/dist-packages (from terminado>=0.8.1->notebook>=4.4.1->widgetsnbextension~=3.6.0->ipywidgets>=7.0.0->witwidget) (0.7.0)\n",
            "Requirement already satisfied: MarkupSafe>=0.23 in /usr/local/lib/python3.7/dist-packages (from jinja2->notebook>=4.4.1->widgetsnbextension~=3.6.0->ipywidgets>=7.0.0->witwidget) (2.0.1)\n",
            "Requirement already satisfied: testpath in /usr/local/lib/python3.7/dist-packages (from nbconvert->notebook>=4.4.1->widgetsnbextension~=3.6.0->ipywidgets>=7.0.0->witwidget) (0.6.0)\n",
            "Requirement already satisfied: bleach in /usr/local/lib/python3.7/dist-packages (from nbconvert->notebook>=4.4.1->widgetsnbextension~=3.6.0->ipywidgets>=7.0.0->witwidget) (5.0.0)\n",
            "Requirement already satisfied: entrypoints>=0.2.2 in /usr/local/lib/python3.7/dist-packages (from nbconvert->notebook>=4.4.1->widgetsnbextension~=3.6.0->ipywidgets>=7.0.0->witwidget) (0.4)\n",
            "Requirement already satisfied: defusedxml in /usr/local/lib/python3.7/dist-packages (from nbconvert->notebook>=4.4.1->widgetsnbextension~=3.6.0->ipywidgets>=7.0.0->witwidget) (0.7.1)\n",
            "Requirement already satisfied: mistune<2,>=0.8.1 in /usr/local/lib/python3.7/dist-packages (from nbconvert->notebook>=4.4.1->widgetsnbextension~=3.6.0->ipywidgets>=7.0.0->witwidget) (0.8.4)\n",
            "Requirement already satisfied: pandocfilters>=1.4.1 in /usr/local/lib/python3.7/dist-packages (from nbconvert->notebook>=4.4.1->widgetsnbextension~=3.6.0->ipywidgets>=7.0.0->witwidget) (1.5.0)\n",
            "Requirement already satisfied: webencodings in /usr/local/lib/python3.7/dist-packages (from bleach->nbconvert->notebook>=4.4.1->widgetsnbextension~=3.6.0->ipywidgets>=7.0.0->witwidget) (0.5.1)\n",
            "Installing collected packages: tf-estimator-nightly, witwidget\n",
            "Successfully installed tf-estimator-nightly-2.8.0.dev2021122109 witwidget-1.8.1\n"
          ]
        }
      ]
    },
    {
      "cell_type": "code",
      "metadata": {
        "id": "jlwjF-Nnmoww"
      },
      "source": [
        "#@title Define helper functions {display-mode: \"form\"}\n",
        "\n",
        "import pandas as pd\n",
        "import numpy as np\n",
        "import tensorflow as tf\n",
        "import functools\n",
        "\n",
        "# Creates a tf feature spec from the dataframe and columns specified.\n",
        "def create_feature_spec(df, columns=None):\n",
        "    feature_spec = {}\n",
        "    if columns == None:\n",
        "        columns = df.columns.values.tolist()\n",
        "    for f in columns:\n",
        "        if df[f].dtype is np.dtype(np.int64):\n",
        "            feature_spec[f] = tf.io.FixedLenFeature(shape=(), dtype=tf.int64)\n",
        "        elif df[f].dtype is np.dtype(np.float64):\n",
        "            feature_spec[f] = tf.io.FixedLenFeature(shape=(), dtype=tf.float32)\n",
        "        else:\n",
        "            feature_spec[f] = tf.io.FixedLenFeature(shape=(), dtype=tf.string)\n",
        "    return feature_spec\n",
        "\n",
        "# Creates simple numeric and categorical feature columns from a feature spec and a\n",
        "# list of columns from that spec to use.\n",
        "#\n",
        "# NOTE: Models might perform better with some feature engineering such as bucketed\n",
        "# numeric columns and hash-bucket/embedding columns for categorical features.\n",
        "def create_feature_columns(columns, feature_spec):\n",
        "    ret = []\n",
        "    for col in columns:\n",
        "        if feature_spec[col].dtype is tf.int64 or feature_spec[col].dtype is tf.float32:\n",
        "            ret.append(tf.feature_column.numeric_column(col))\n",
        "        else:\n",
        "            ret.append(tf.feature_column.indicator_column(\n",
        "                tf.feature_column.categorical_column_with_vocabulary_list(col, list(df[col].unique()))))\n",
        "    return ret\n",
        "\n",
        "# An input function for providing input to a model from tf.Examples\n",
        "def tfexamples_input_fn(examples, feature_spec, label, mode=tf.estimator.ModeKeys.EVAL,\n",
        "                       num_epochs=None, \n",
        "                       batch_size=64):\n",
        "    def ex_generator():\n",
        "        for i in range(len(examples)):\n",
        "            yield examples[i].SerializeToString()\n",
        "    dataset = tf.data.Dataset.from_generator(\n",
        "      ex_generator, tf.dtypes.string, tf.TensorShape([]))\n",
        "    if mode == tf.estimator.ModeKeys.TRAIN:\n",
        "        dataset = dataset.shuffle(buffer_size=2 * batch_size + 1)\n",
        "    dataset = dataset.batch(batch_size)\n",
        "    dataset = dataset.map(lambda tf_example: parse_tf_example(tf_example, label, feature_spec))\n",
        "    dataset = dataset.repeat(num_epochs)\n",
        "    return dataset\n",
        "\n",
        "# Parses Tf.Example protos into features for the input function.\n",
        "def parse_tf_example(example_proto, label, feature_spec):\n",
        "    parsed_features = tf.io.parse_example(serialized=example_proto, features=feature_spec)\n",
        "    target = parsed_features.pop(label)\n",
        "    return parsed_features, target\n",
        "\n",
        "# Converts a dataframe into a list of tf.Example protos.\n",
        "def df_to_examples(df, columns=None):\n",
        "    examples = []\n",
        "    if columns == None:\n",
        "        columns = df.columns.values.tolist()\n",
        "    for index, row in df.iterrows():\n",
        "        example = tf.train.Example()\n",
        "        for col in columns:\n",
        "            if df[col].dtype is np.dtype(np.int64):\n",
        "                example.features.feature[col].int64_list.value.append(int(row[col]))\n",
        "            elif df[col].dtype is np.dtype(np.float64):\n",
        "                example.features.feature[col].float_list.value.append(row[col])\n",
        "            elif row[col] == row[col]:\n",
        "                example.features.feature[col].bytes_list.value.append(row[col].encode('utf-8'))\n",
        "        examples.append(example)\n",
        "    return examples\n",
        "\n",
        "# Converts a dataframe column into a column of 0's and 1's based on the provided test.\n",
        "# Used to force label columns to be numeric for binary classification using a TF estimator.\n",
        "def make_label_column_numeric(df, label_column, test):\n",
        "  df[label_column] = np.where(test(df[label_column]), 1, 0)"
      ],
      "execution_count": 2,
      "outputs": []
    },
    {
      "cell_type": "code",
      "metadata": {
        "id": "nu398ARdeuxe"
      },
      "source": [
        "#@title Read training dataset from CSV {display-mode: \"form\"}\n",
        "\n",
        "import pandas as pd\n",
        "\n",
        "# Set the path to the CSV containing the dataset to train on.\n",
        "csv_path = 'https://archive.ics.uci.edu/ml/machine-learning-databases/adult/adult.data'\n",
        "\n",
        "# Set the column names for the columns in the CSV. If the CSV's first line is a header line containing\n",
        "# the column names, then set this to None.\n",
        "csv_columns = [\n",
        "  \"Age\", \"Workclass\", \"fnlwgt\", \"Education\", \"Education-Num\", \"Marital-Status\",\n",
        "  \"Occupation\", \"Relationship\", \"Race\", \"Sex\", \"Capital-Gain\", \"Capital-Loss\",\n",
        "  \"Hours-per-week\", \"Country\", \"Over-50K\"]\n",
        "\n",
        "# Read the dataset from the provided CSV and print out information about it.\n",
        "df = pd.read_csv(csv_path, names=csv_columns, skipinitialspace=True)\n",
        "\n",
        "df"
      ],
      "execution_count": null,
      "outputs": []
    },
    {
      "cell_type": "code",
      "metadata": {
        "id": "67DYIFxoevt2"
      },
      "source": [
        "#@title Specify input columns and column to predict {display-mode: \"form\"}\n",
        "import numpy as np\n",
        "\n",
        "# Set the column in the dataset you wish for the model to predict\n",
        "label_column = 'Over-50K'\n",
        "\n",
        "# Make the label column numeric (0 and 1), for use in our model.\n",
        "# In this case, examples with a target value of '>50K' are considered to be in\n",
        "# the '1' (positive) class and all other examples are considered to be in the\n",
        "# '0' (negative) class.\n",
        "make_label_column_numeric(df, label_column, lambda val: val == '>50K')\n",
        "\n",
        "# Set list of all columns from the dataset we will use for model input.\n",
        "input_features = [\n",
        "  'Age', 'Workclass', 'Education', 'Marital-Status', 'Occupation',\n",
        "  'Relationship', 'Race', 'Sex', 'Capital-Gain', 'Capital-Loss',\n",
        "  'Hours-per-week', 'Country']\n",
        "\n",
        "# Create a list containing all input features and the label column\n",
        "features_and_labels = input_features + [label_column]"
      ],
      "execution_count": null,
      "outputs": []
    },
    {
      "cell_type": "code",
      "metadata": {
        "id": "BV4f_4_Lex22"
      },
      "source": [
        "#@title Convert dataset to tf.Example protos {display-mode: \"form\"}\n",
        "\n",
        "examples = df_to_examples(df)"
      ],
      "execution_count": null,
      "outputs": []
    },
    {
      "cell_type": "code",
      "metadata": {
        "id": "YyLr-_0de1Ii"
      },
      "source": [
        "#@title Create and train the linear classifier {display-mode: \"form\"}\n",
        "\n",
        "num_steps = 2000  #@param {type: \"number\"}\n",
        "\n",
        "# Create a feature spec for the classifier\n",
        "feature_spec = create_feature_spec(df, features_and_labels)\n",
        "\n",
        "# Define and train the classifier\n",
        "train_inpf = functools.partial(tfexamples_input_fn, examples, feature_spec, label_column)\n",
        "classifier = tf.estimator.LinearClassifier(\n",
        "    feature_columns=create_feature_columns(input_features, feature_spec))\n",
        "classifier.train(train_inpf, steps=num_steps)"
      ],
      "execution_count": null,
      "outputs": []
    },
    {
      "cell_type": "code",
      "metadata": {
        "id": "EbZuyaJsufkz"
      },
      "source": [
        "#@title Create and train the DNN classifier {display-mode: \"form\"}\n",
        "num_steps_2 = 2000  #@param {type: \"number\"}\n",
        "\n",
        "classifier2 = tf.estimator.DNNClassifier(\n",
        "    feature_columns=create_feature_columns(input_features, feature_spec),\n",
        "    hidden_units=[128, 64, 32])\n",
        "classifier2.train(train_inpf, steps=num_steps_2)"
      ],
      "execution_count": null,
      "outputs": []
    },
    {
      "cell_type": "code",
      "metadata": {
        "id": "NUQVro76e38Q"
      },
      "source": [
        "#@title Invoke What-If Tool for test data and the trained models {display-mode: \"form\"}\n",
        "\n",
        "num_datapoints = 2000  #@param {type: \"number\"}\n",
        "tool_height_in_px = 1000  #@param {type: \"number\"}\n",
        "\n",
        "from witwidget.notebook.visualization import WitConfigBuilder\n",
        "from witwidget.notebook.visualization import WitWidget\n",
        "\n",
        "# Load up the test dataset\n",
        "test_csv_path = 'https://archive.ics.uci.edu/ml/machine-learning-databases/adult/adult.test'\n",
        "test_df = pd.read_csv(test_csv_path, names=csv_columns, skipinitialspace=True,\n",
        "  skiprows=1)\n",
        "make_label_column_numeric(test_df, label_column, lambda val: val == '>50K.')\n",
        "test_examples = df_to_examples(test_df[0:num_datapoints])\n",
        "\n",
        "# Setup the tool with the test examples and the trained classifier\n",
        "config_builder = WitConfigBuilder(test_examples[0:num_datapoints]).set_estimator_and_feature_spec(\n",
        "    classifier, feature_spec).set_compare_estimator_and_feature_spec(\n",
        "    classifier2, feature_spec).set_label_vocab(['Under 50K', 'Over 50K'])\n",
        "a = WitWidget(config_builder, height=tool_height_in_px)"
      ],
      "execution_count": null,
      "outputs": []
    },
    {
      "cell_type": "markdown",
      "metadata": {
        "id": "wez70n72Q5lM"
      },
      "source": [
        "#### Exploration ideas\n",
        "\n",
        "- Organize datapoints by setting X-axis scatter to \"inference score 1\" and Y-axis scatter to \"inference score 2\" to see how each datapoint differs in score between the linear model (1) and DNN model (2). Points off the diagonal have differences in results between the two models.\n",
        "  - Are there patterns of which datapoints don't agree between the two models?\n",
        "  - If you set the ground truth feature dropdown in the \"Performance + Fairness\" tab to \"Over-50K\", then you can color or bin the datapoints by \"inference correct 1\" or \"inference correct 2\". Are there patterns of which datapoints are incorrect for model 1? For model 2?\n",
        "\n",
        "- Explore performance of the two models through the confusion matrices in the \"Performance + Fairness\" tab. Which model is best? Train either model for longer and see if you can change this. Are the rates of errors (false positives and false negatives) that the two models make different?\n",
        "  - Click the \"optimize threshold\" button to set the optimal positive classification threshold for each model based on the current cost ratio of 1. How do those thresholds and the resulting confusion matrices differ?\n",
        "    - Change the cost ratio and optimize the threshold again. How does the threshold and performance change on the two models?\n",
        "  - Slice the dataset by features, such as \"sex\" or \"race\". Does either model have more-equal performance between slices?\n",
        "    - Use the threshold optimization buttons to set optimal thresholds based on the different fairness constraints. How does performance between slices differ between the two models. Does one require larger differences in threshold values per slice to achieve the desired constraint?\n",
        "\n",
        "- Looking at the create_feature_columns function in the \"Define helper methods\" cell, categorical features use one-hot encodings in the model. Perhaps change a many-valued categorical feature, such as education to use an embedding layer. Does anything change in the model behavior (can look through partial dependence plots as one way to investigate)."
      ]
    }
  ]
}